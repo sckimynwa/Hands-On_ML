{
 "cells": [
  {
   "cell_type": "markdown",
   "metadata": {},
   "source": [
    "# MNIST with SVM"
   ]
  },
  {
   "cell_type": "markdown",
   "metadata": {},
   "source": [
    "## Get Datasets"
   ]
  },
  {
   "cell_type": "code",
   "execution_count": 1,
   "metadata": {},
   "outputs": [
    {
     "name": "stdout",
     "output_type": "stream",
     "text": [
      "['data', 'target', 'frame', 'feature_names', 'target_names', 'DESCR', 'details', 'categories', 'url']\n"
     ]
    }
   ],
   "source": [
    "from sklearn.datasets import fetch_openml\n",
    "\n",
    "mnist = fetch_openml('mnist_784', version=1)\n",
    "print(list(mnist))\n",
    "X, y = mnist['data'], mnist['target']"
   ]
  },
  {
   "cell_type": "code",
   "execution_count": 5,
   "metadata": {},
   "outputs": [],
   "source": [
    "import matplotlib.pyplot as plt\n",
    "from sklearn.model_selection import train_test_split\n",
    "%matplotlib inline\n",
    "\n",
    "X_train, X_test, y_train, y_test = train_test_split(X, y, stratify=y, test_size=0.3, random_state=42)"
   ]
  },
  {
   "cell_type": "markdown",
   "metadata": {},
   "source": [
    "## Train with LinearSVC"
   ]
  },
  {
   "cell_type": "code",
   "execution_count": 8,
   "metadata": {},
   "outputs": [
    {
     "name": "stderr",
     "output_type": "stream",
     "text": [
      "/usr/local/anaconda3/envs/cs231n-2/lib/python3.7/site-packages/sklearn/svm/_base.py:947: ConvergenceWarning: Liblinear failed to converge, increase the number of iterations.\n",
      "  \"the number of iterations.\", ConvergenceWarning)\n"
     ]
    },
    {
     "data": {
      "text/plain": [
       "0.8735510204081632"
      ]
     },
     "execution_count": 8,
     "metadata": {},
     "output_type": "execute_result"
    }
   ],
   "source": [
    "import numpy as np\n",
    "from sklearn.svm import LinearSVC\n",
    "\n",
    "# Linear SVC will automatically choose one vs all stratagy\n",
    "lin_clf = LinearSVC(random_state=42)\n",
    "lin_clf.fit(X_train, y_train)\n",
    "\n",
    "from sklearn.metrics import accuracy_score\n",
    "\n",
    "y_pred = lin_clf.predict(X_train)\n",
    "accuracy_score(y_train, y_pred)"
   ]
  },
  {
   "cell_type": "markdown",
   "metadata": {},
   "source": [
    "## Scale Features"
   ]
  },
  {
   "cell_type": "code",
   "execution_count": 9,
   "metadata": {},
   "outputs": [],
   "source": [
    "from sklearn.preprocessing import StandardScaler\n",
    "from sklearn.svm import SVC\n",
    "\n",
    "scaler = StandardScaler()\n",
    "X_train_scaled = scaler.fit_transform(X_train.astype(np.float32))\n",
    "X_test_scaled = scaler.fit_transform(X_test.astype(np.float32))"
   ]
  },
  {
   "cell_type": "code",
   "execution_count": 10,
   "metadata": {},
   "outputs": [
    {
     "name": "stderr",
     "output_type": "stream",
     "text": [
      "/usr/local/anaconda3/envs/cs231n-2/lib/python3.7/site-packages/sklearn/svm/_base.py:947: ConvergenceWarning: Liblinear failed to converge, increase the number of iterations.\n",
      "  \"the number of iterations.\", ConvergenceWarning)\n"
     ]
    },
    {
     "data": {
      "text/plain": [
       "0.9260204081632653"
      ]
     },
     "execution_count": 10,
     "metadata": {},
     "output_type": "execute_result"
    }
   ],
   "source": [
    "lin_clf = LinearSVC(random_state=42)\n",
    "lin_clf.fit(X_train_scaled, y_train)\n",
    "y_pred = lin_clf.predict(X_train_scaled)\n",
    "accuracy_score(y_train, y_pred)"
   ]
  },
  {
   "cell_type": "markdown",
   "metadata": {},
   "source": [
    "## Using SVM"
   ]
  },
  {
   "cell_type": "code",
   "execution_count": 11,
   "metadata": {},
   "outputs": [
    {
     "name": "stdout",
     "output_type": "stream",
     "text": [
      "Fitting 3 folds for each of 10 candidates, totalling 30 fits\n",
      "[CV] C=10.654661115596367, gamma=0.06984765985252415 .................\n"
     ]
    },
    {
     "name": "stderr",
     "output_type": "stream",
     "text": [
      "[Parallel(n_jobs=1)]: Using backend SequentialBackend with 1 concurrent workers.\n"
     ]
    },
    {
     "name": "stdout",
     "output_type": "stream",
     "text": [
      "[CV] .. C=10.654661115596367, gamma=0.06984765985252415, total=   1.0s\n",
      "[CV] C=10.654661115596367, gamma=0.06984765985252415 .................\n"
     ]
    },
    {
     "name": "stderr",
     "output_type": "stream",
     "text": [
      "[Parallel(n_jobs=1)]: Done   1 out of   1 | elapsed:    1.0s remaining:    0.0s\n"
     ]
    },
    {
     "name": "stdout",
     "output_type": "stream",
     "text": [
      "[CV] .. C=10.654661115596367, gamma=0.06984765985252415, total=   1.0s\n",
      "[CV] C=10.654661115596367, gamma=0.06984765985252415 .................\n",
      "[CV] .. C=10.654661115596367, gamma=0.06984765985252415, total=   1.0s\n",
      "[CV] C=9.013088505273837, gamma=0.0013393214120953044 ................\n",
      "[CV] . C=9.013088505273837, gamma=0.0013393214120953044, total=   0.7s\n",
      "[CV] C=9.013088505273837, gamma=0.0013393214120953044 ................\n",
      "[CV] . C=9.013088505273837, gamma=0.0013393214120953044, total=   0.7s\n",
      "[CV] C=9.013088505273837, gamma=0.0013393214120953044 ................\n",
      "[CV] . C=9.013088505273837, gamma=0.0013393214120953044, total=   0.7s\n",
      "[CV] C=5.351231477520744, gamma=0.09188740614552866 ..................\n",
      "[CV] ... C=5.351231477520744, gamma=0.09188740614552866, total=   0.9s\n",
      "[CV] C=5.351231477520744, gamma=0.09188740614552866 ..................\n",
      "[CV] ... C=5.351231477520744, gamma=0.09188740614552866, total=   1.0s\n",
      "[CV] C=5.351231477520744, gamma=0.09188740614552866 ..................\n",
      "[CV] ... C=5.351231477520744, gamma=0.09188740614552866, total=   1.0s\n",
      "[CV] C=5.294763455999275, gamma=0.06177949192119983 ..................\n",
      "[CV] ... C=5.294763455999275, gamma=0.06177949192119983, total=   1.0s\n",
      "[CV] C=5.294763455999275, gamma=0.06177949192119983 ..................\n",
      "[CV] ... C=5.294763455999275, gamma=0.06177949192119983, total=   0.9s\n",
      "[CV] C=5.294763455999275, gamma=0.06177949192119983 ..................\n",
      "[CV] ... C=5.294763455999275, gamma=0.06177949192119983, total=   1.0s\n",
      "[CV] C=3.6295717778816208, gamma=0.01308850658018167 .................\n",
      "[CV] .. C=3.6295717778816208, gamma=0.01308850658018167, total=   0.9s\n",
      "[CV] C=3.6295717778816208, gamma=0.01308850658018167 .................\n",
      "[CV] .. C=3.6295717778816208, gamma=0.01308850658018167, total=   1.0s\n",
      "[CV] C=3.6295717778816208, gamma=0.01308850658018167 .................\n",
      "[CV] .. C=3.6295717778816208, gamma=0.01308850658018167, total=   1.0s\n",
      "[CV] C=3.6501112348290334, gamma=0.09726353344889 ....................\n",
      "[CV] ..... C=3.6501112348290334, gamma=0.09726353344889, total=   1.0s\n",
      "[CV] C=3.6501112348290334, gamma=0.09726353344889 ....................\n",
      "[CV] ..... C=3.6501112348290334, gamma=0.09726353344889, total=   0.9s\n",
      "[CV] C=3.6501112348290334, gamma=0.09726353344889 ....................\n",
      "[CV] ..... C=3.6501112348290334, gamma=0.09726353344889, total=   0.9s\n",
      "[CV] C=10.014573928115698, gamma=0.035066528445436354 ................\n",
      "[CV] . C=10.014573928115698, gamma=0.035066528445436354, total=   0.9s\n",
      "[CV] C=10.014573928115698, gamma=0.035066528445436354 ................\n",
      "[CV] . C=10.014573928115698, gamma=0.035066528445436354, total=   0.9s\n",
      "[CV] C=10.014573928115698, gamma=0.035066528445436354 ................\n",
      "[CV] . C=10.014573928115698, gamma=0.035066528445436354, total=   0.9s\n",
      "[CV] C=8.355395817714609, gamma=0.030111561107611377 .................\n",
      "[CV] .. C=8.355395817714609, gamma=0.030111561107611377, total=   0.9s\n",
      "[CV] C=8.355395817714609, gamma=0.030111561107611377 .................\n",
      "[CV] .. C=8.355395817714609, gamma=0.030111561107611377, total=   0.9s\n",
      "[CV] C=8.355395817714609, gamma=0.030111561107611377 .................\n",
      "[CV] .. C=8.355395817714609, gamma=0.030111561107611377, total=   1.0s\n",
      "[CV] C=6.392201651408516, gamma=0.015284767446344764 .................\n",
      "[CV] .. C=6.392201651408516, gamma=0.015284767446344764, total=   0.9s\n",
      "[CV] C=6.392201651408516, gamma=0.015284767446344764 .................\n",
      "[CV] .. C=6.392201651408516, gamma=0.015284767446344764, total=   1.0s\n",
      "[CV] C=6.392201651408516, gamma=0.015284767446344764 .................\n",
      "[CV] .. C=6.392201651408516, gamma=0.015284767446344764, total=   1.0s\n",
      "[CV] C=1.227119485042444, gamma=0.014950915319251022 .................\n",
      "[CV] .. C=1.227119485042444, gamma=0.014950915319251022, total=   1.0s\n",
      "[CV] C=1.227119485042444, gamma=0.014950915319251022 .................\n",
      "[CV] .. C=1.227119485042444, gamma=0.014950915319251022, total=   0.9s\n",
      "[CV] C=1.227119485042444, gamma=0.014950915319251022 .................\n",
      "[CV] .. C=1.227119485042444, gamma=0.014950915319251022, total=   0.9s\n"
     ]
    },
    {
     "name": "stderr",
     "output_type": "stream",
     "text": [
      "[Parallel(n_jobs=1)]: Done  30 out of  30 | elapsed:   28.1s finished\n"
     ]
    },
    {
     "data": {
      "text/plain": [
       "RandomizedSearchCV(cv=3, error_score=nan,\n",
       "                   estimator=SVC(C=1.0, break_ties=False, cache_size=200,\n",
       "                                 class_weight=None, coef0=0.0,\n",
       "                                 decision_function_shape='ovr', degree=3,\n",
       "                                 gamma='auto', kernel='rbf', max_iter=-1,\n",
       "                                 probability=False, random_state=None,\n",
       "                                 shrinking=True, tol=0.001, verbose=False),\n",
       "                   iid='deprecated', n_iter=10, n_jobs=None,\n",
       "                   param_distributions={'C': <scipy.stats._distn_infrastructure.rv_frozen object at 0x12ad8f750>,\n",
       "                                        'gamma': <scipy.stats._distn_infrastructure.rv_frozen object at 0x12ad8ff90>},\n",
       "                   pre_dispatch='2*n_jobs', random_state=None, refit=True,\n",
       "                   return_train_score=False, scoring=None, verbose=2)"
      ]
     },
     "execution_count": 11,
     "metadata": {},
     "output_type": "execute_result"
    }
   ],
   "source": [
    "from sklearn.model_selection import RandomizedSearchCV\n",
    "from scipy.stats import reciprocal, uniform\n",
    "\n",
    "svm_clf = SVC(decision_function_shape=\"ovr\", gamma=\"auto\")\n",
    "param_distributions = {\"gamma\": reciprocal(0.001, 0.1), \"C\": uniform(1, 10)}\n",
    "rnd_search_cv = RandomizedSearchCV(svm_clf, param_distributions, n_iter=10, verbose=2, cv=3)\n",
    "rnd_search_cv.fit(X_train_scaled[:1000], y_train[:1000])"
   ]
  },
  {
   "cell_type": "code",
   "execution_count": 14,
   "metadata": {},
   "outputs": [
    {
     "data": {
      "text/plain": [
       "SVC(C=9.013088505273837, break_ties=False, cache_size=200, class_weight=None,\n",
       "    coef0=0.0, decision_function_shape='ovr', degree=3,\n",
       "    gamma=0.0013393214120953044, kernel='rbf', max_iter=-1, probability=False,\n",
       "    random_state=None, shrinking=True, tol=0.001, verbose=False)"
      ]
     },
     "execution_count": 14,
     "metadata": {},
     "output_type": "execute_result"
    }
   ],
   "source": [
    "rnd_search_cv.best_estimator_"
   ]
  },
  {
   "cell_type": "code",
   "execution_count": 13,
   "metadata": {},
   "outputs": [
    {
     "data": {
      "text/plain": [
       "0.898997800195405"
      ]
     },
     "execution_count": 13,
     "metadata": {},
     "output_type": "execute_result"
    }
   ],
   "source": [
    "rnd_search_cv.best_score_"
   ]
  },
  {
   "cell_type": "markdown",
   "metadata": {},
   "source": [
    "## Scores"
   ]
  },
  {
   "cell_type": "code",
   "execution_count": 15,
   "metadata": {},
   "outputs": [
    {
     "name": "stdout",
     "output_type": "stream",
     "text": [
      "0.9992857142857143\n",
      "0.9698571428571429\n"
     ]
    }
   ],
   "source": [
    "rnd_search_cv.best_estimator_.fit(X_train_scaled, y_train)\n",
    "y_pred = rnd_search_cv.best_estimator_.predict(X_train_scaled)\n",
    "print(accuracy_score(y_train, y_pred))\n",
    "\n",
    "y_pred = rnd_search_cv.best_estimator_.predict(X_test_scaled)\n",
    "print(accuracy_score(y_test, y_pred))"
   ]
  },
  {
   "cell_type": "code",
   "execution_count": null,
   "metadata": {},
   "outputs": [],
   "source": []
  }
 ],
 "metadata": {
  "kernelspec": {
   "display_name": "Python 3",
   "language": "python",
   "name": "python3"
  },
  "language_info": {
   "codemirror_mode": {
    "name": "ipython",
    "version": 3
   },
   "file_extension": ".py",
   "mimetype": "text/x-python",
   "name": "python",
   "nbconvert_exporter": "python",
   "pygments_lexer": "ipython3",
   "version": "3.7.6"
  }
 },
 "nbformat": 4,
 "nbformat_minor": 4
}
